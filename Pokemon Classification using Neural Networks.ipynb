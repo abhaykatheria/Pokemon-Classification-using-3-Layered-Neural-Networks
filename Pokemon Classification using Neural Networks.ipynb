{
 "cells": [
  {
   "cell_type": "markdown",
   "metadata": {},
   "source": [
    "# POKEMON"
   ]
  },
  {
   "cell_type": "code",
   "execution_count": 33,
   "metadata": {},
   "outputs": [],
   "source": [
    "import os\n",
    "from pathlib import Path\n",
    "from keras.preprocessing import image\n",
    "import matplotlib.pyplot as plt\n",
    "import numpy as np\n",
    "from sklearn.utils import shuffle"
   ]
  },
  {
   "cell_type": "code",
   "execution_count": 79,
   "metadata": {},
   "outputs": [
    {
     "name": "stdout",
     "output_type": "stream",
     "text": [
      "0 173\n",
      "1 70\n",
      "2 199\n"
     ]
    }
   ],
   "source": [
    "p = Path(\"D:\\Dataset\")\n",
    "directories = p.glob(\"*\")\n",
    "\n",
    "pok_data = []\n",
    "pok_name = []\n",
    "label_dic = {\"Bulbasaur\":0,\"Meowth\":1,\"Pikachu\":2}\n",
    "label_to_pok_dic = {0:\"Bulbasaur\",1:\"Meowth\",2:\"Pikachu\"}\n",
    "for folder in directories:\n",
    "    label = label_dic[str(folder).split('\\\\')[-1]]\n",
    "    count = 0\n",
    "    for img_path in folder.glob(\"*.jpg\"):\n",
    "        img = image.load_img(img_path , target_size=(40,40))\n",
    "        img_arr = image.img_to_array(img)\n",
    "        pok_data.append(img_arr)\n",
    "        pok_name.append(label)\n",
    "        count+=1\n",
    "    print(label,count)"
   ]
  },
  {
   "cell_type": "code",
   "execution_count": null,
   "metadata": {},
   "outputs": [],
   "source": []
  },
  {
   "cell_type": "code",
   "execution_count": 80,
   "metadata": {},
   "outputs": [],
   "source": [
    "X,Y = np.array(pok_data),np.array(pok_name)"
   ]
  },
  {
   "cell_type": "code",
   "execution_count": 81,
   "metadata": {},
   "outputs": [],
   "source": [
    "X,Y = shuffle(X,Y,random_state = 2)"
   ]
  },
  {
   "cell_type": "code",
   "execution_count": 82,
   "metadata": {},
   "outputs": [],
   "source": [
    "X=X/255"
   ]
  },
  {
   "cell_type": "code",
   "execution_count": 83,
   "metadata": {},
   "outputs": [],
   "source": [
    "def drawimg(img,label):\n",
    "    plt.axis(\"off\")\n",
    "    plt.title(label_to_pok_dic[label])\n",
    "    plt.imshow(img)\n",
    "    plt.show()"
   ]
  },
  {
   "cell_type": "code",
   "execution_count": 84,
   "metadata": {},
   "outputs": [],
   "source": [
    "plt.style.use(\"seaborn\")"
   ]
  },
  {
   "cell_type": "code",
   "execution_count": 85,
   "metadata": {},
   "outputs": [],
   "source": [
    "X = X.reshape((X.shape[0],-1))"
   ]
  },
  {
   "cell_type": "code",
   "execution_count": 86,
   "metadata": {},
   "outputs": [],
   "source": [
    "X_train , Y_train = X[:353] , Y[:353]\n",
    "X_test , Y_test = X[353:] , Y[353:]"
   ]
  },
  {
   "cell_type": "code",
   "execution_count": 87,
   "metadata": {},
   "outputs": [
    {
     "data": {
      "text/plain": [
       "array([1, 2, 2, 2, 0, 0, 0, 0, 2, 2, 0, 0, 0, 2, 2, 0, 2, 0, 2, 0, 2, 0,\n",
       "       0, 2, 0, 0, 0, 2, 2, 2, 1, 0, 2, 2, 2, 1, 2, 0, 2, 0, 1, 2, 2, 0,\n",
       "       0, 1, 0, 0, 0, 0, 1, 2, 2, 1, 0, 2, 2, 2, 2, 0, 0, 0, 2, 0, 2, 2,\n",
       "       0, 1, 0, 2, 0, 0, 2, 1, 2, 2, 0, 1, 2, 0, 0, 2, 2, 0, 2, 0, 0, 0,\n",
       "       0])"
      ]
     },
     "execution_count": 87,
     "metadata": {},
     "output_type": "execute_result"
    }
   ],
   "source": [
    "Y_test"
   ]
  },
  {
   "cell_type": "code",
   "execution_count": 88,
   "metadata": {},
   "outputs": [],
   "source": [
    "class NeuralNetwroks:\n",
    "    def __init__(self,input_size,layers,output_size):\n",
    "        np.random.seed(0)\n",
    "        \n",
    "        model ={}\n",
    "        model['W1']=np.random.randn(input_size,layers[0])\n",
    "        model['b1']=np.zeros((1,layers[0]))\n",
    "        \n",
    "        model['W2']=np.random.randn(layers[0],layers[1])\n",
    "        model['b2']=np.zeros((1,layers[1]))\n",
    "        \n",
    "        model['W3']=np.random.randn(layers[1],output_size)\n",
    "        model['b3']=np.zeros((1,output_size))\n",
    "        self.model=model\n",
    "        self.activation_outputs=[]\n",
    "        \n",
    "    def softmax(self,v):\n",
    "        return(np.exp(v)/np.sum(np.exp(v), axis=1, keepdims=True))\n",
    "    \n",
    "    def forward_propagation(self,x):\n",
    "        z1 = np.dot(x,self.model['W1']) + self.model['b1']\n",
    "        a1 = np.tanh(z1)\n",
    "        \n",
    "        z2 = np.dot(a1,self.model['W2']) + self.model['b2']\n",
    "        a2 = np.tanh(z2)\n",
    "        \n",
    "        z3 = np.dot(a2,self.model['W3']) + self.model['b3']\n",
    "        y_ = self.softmax(z3)\n",
    "        \n",
    "        self.activation_outputs = [a1,a2,y_]\n",
    "        return (y_)\n",
    "    \n",
    "    def backward_propagation(self,x,y,lr=0.001):\n",
    "        w1,w2,w3=self.model['W1'],self.model['W2'],self.model['W3']\n",
    "        b1,b2,b3=self.model['b1'],self.model['b2'],self.model['b3']\n",
    "        a1,a2,y_ = self.activation_outputs\n",
    "        m = x.shape[0]\n",
    "        \n",
    "        del3 = (y_ - y)\n",
    "        dw3 = np.dot(a2.T , del3)\n",
    "        db3 = np.sum(del3 , axis = 0)/m\n",
    "        \n",
    "        del2 = (1-np.square(a2))*np.dot(del3,w3.T)\n",
    "        dw2 = np.dot(a1.T , del2)\n",
    "        db2 = np.sum(del2 , axis = 0)/m\n",
    "        \n",
    "        del1 = (1-np.square(a1))*np.dot(del2,w2.T)\n",
    "        dw1 = np.dot(x.T , del1)\n",
    "        db1 = np.sum(del1 , axis = 0)/m\n",
    "        \n",
    "        self.model[\"W1\"]  -= lr*dw1\n",
    "        self.model['b1']  -= lr*db1\n",
    "        \n",
    "        self.model[\"W2\"]  -= lr*dw2\n",
    "        self.model['b2']  -= lr*db2\n",
    "        \n",
    "        self.model[\"W3\"]  -= lr*dw3\n",
    "        self.model['b3']  -= lr*db3\n",
    "        \n",
    "    def prediction(self,X):\n",
    "        y_pred = self.forward_propagation(X)\n",
    "        return(np.argmax(y_pred,axis=1))\n",
    "    \n",
    "    def final(self):\n",
    "        w1,w2,w3=self.model['W1'],self.model['W2'],self.model['W3']\n",
    "        a1,a2,y_ = self.activation_outputs\n",
    "        print(\"W1 shape :\",w1.shape)\n",
    "        print(\"a1 shape :\",a1.shape)\n",
    "        print(\"W2 shape :\",w2.shape)\n",
    "        print(\"a2 shape :\",a2.shape)\n",
    "        print(\"W3 shape :\",w3.shape)\n",
    "        print(\"Y_ shape :\",y_.shape)\n",
    "        \n",
    "    def loss(self,y,p):\n",
    "        return(-1*np.mean(y*np.log(p)))\n",
    "        \n",
    "    def one_hot_vector(self,y,depth):\n",
    "        m = y.shape[0]\n",
    "        y_oht = np.zeros((m,depth))\n",
    "        y_oht[np.arange(m),y] = 1\n",
    "        return(y_oht)\n",
    "def train_model(X,Y,nr,epochs,lr=0.0001,logs=True):\n",
    "    total_loss = []\n",
    "    classes = len(np.unique(Y))\n",
    "    Y_hot = nr.one_hot_vector(Y,classes)\n",
    "    \n",
    "    for i in range(epochs):\n",
    "        Y_ = nr.forward_propagation(X)\n",
    "        l = nr.loss(Y_hot,Y_)\n",
    "        total_loss.append(l)\n",
    "        nr.backward_propagation(X,Y_hot,lr)\n",
    "    \n",
    "        if logs and i%50==0:\n",
    "            print(\"At epoch \",i,\"loss is %.4f\"%l)\n",
    "    return(total_loss)"
   ]
  },
  {
   "cell_type": "code",
   "execution_count": 118,
   "metadata": {},
   "outputs": [],
   "source": [
    "NN = NeuralNetwroks(input_size=4800 , layers = [100,50], output_size=3)"
   ]
  },
  {
   "cell_type": "code",
   "execution_count": 119,
   "metadata": {},
   "outputs": [
    {
     "name": "stdout",
     "output_type": "stream",
     "text": [
      "At epoch  0 loss is 1.7377\n",
      "At epoch  50 loss is 0.6249\n",
      "At epoch  100 loss is 0.1653\n",
      "At epoch  150 loss is 0.0534\n",
      "At epoch  200 loss is 0.0369\n",
      "At epoch  250 loss is 0.0454\n",
      "At epoch  300 loss is 0.0201\n",
      "At epoch  350 loss is 0.0150\n",
      "At epoch  400 loss is 0.0126\n",
      "At epoch  450 loss is 0.0110\n"
     ]
    }
   ],
   "source": [
    "total_loss = train_model(X_train,Y_train,NN,epochs=500,lr=0.001)"
   ]
  },
  {
   "cell_type": "code",
   "execution_count": 120,
   "metadata": {},
   "outputs": [],
   "source": [
    "plt.style.use(\"dark_background\")"
   ]
  },
  {
   "cell_type": "code",
   "execution_count": 121,
   "metadata": {},
   "outputs": [
    {
     "data": {
      "text/plain": [
       "[<matplotlib.lines.Line2D at 0x15c79399c88>]"
      ]
     },
     "execution_count": 121,
     "metadata": {},
     "output_type": "execute_result"
    },
    {
     "data": {
      "image/png": "[encoded data removed]",
      "text/plain": [
       "<Figure size 576x396 with 1 Axes>"
      ]
     },
     "metadata": {},
     "output_type": "display_data"
    }
   ],
   "source": [
    "plt.plot(total_loss)"
   ]
  },
  {
   "cell_type": "code",
   "execution_count": 122,
   "metadata": {},
   "outputs": [
    {
     "name": "stdout",
     "output_type": "stream",
     "text": [
      "Train Acc 0.9321\n",
      "Test Acc 0.6966\n"
     ]
    }
   ],
   "source": [
    "def getAccuracy(X,Y,model):\n",
    "    outputs = model.prediction(X)\n",
    "    acc = np.sum(outputs==Y)/Y.shape[0]\n",
    "    return acc\n",
    "    \n",
    "print(\"Train Acc %.4f\"%getAccuracy(X,Y,NN))\n",
    "print(\"Test Acc %.4f\"%getAccuracy(X_test,Y_test,NN))"
   ]
  },
  {
   "cell_type": "code",
   "execution_count": 97,
   "metadata": {},
   "outputs": [],
   "source": [
    "from sklearn.metrics import confusion_matrix"
   ]
  },
  {
   "cell_type": "code",
   "execution_count": 98,
   "metadata": {},
   "outputs": [],
   "source": [
    "import itertools\n",
    "def plot_confusion_matrix(cm, classes,\n",
    "                          normalize=False,\n",
    "                          title='Confusion matrix',\n",
    "                          cmap=plt.cm.Blues):\n",
    "    \"\"\"\n",
    "    This function prints and plots the confusion matrix.\n",
    "    Normalization can be applied by setting `normalize=True`.\n",
    "    \"\"\"\n",
    "    if normalize:\n",
    "        cm = cm.astype('float') / cm.sum(axis=1)[:, np.newaxis]\n",
    "        print(\"Normalized confusion matrix\")\n",
    "    else:\n",
    "        print('Confusion matrix, without normalization')\n",
    "\n",
    "    print(cm)\n",
    "\n",
    "    plt.imshow(cm, interpolation='nearest', cmap=cmap)\n",
    "    plt.title(title)\n",
    "    plt.colorbar()\n",
    "    tick_marks = np.arange(len(classes))\n",
    "    plt.xticks(tick_marks, classes, rotation=45)\n",
    "    plt.yticks(tick_marks, classes)\n",
    "\n",
    "    fmt = '.2f' if normalize else 'd'\n",
    "    thresh = cm.max() / 2.\n",
    "    for i, j in itertools.product(range(cm.shape[0]), range(cm.shape[1])):\n",
    "        plt.text(j, i, format(cm[i, j], fmt),\n",
    "                 horizontalalignment=\"center\",\n",
    "                 color=\"white\" if cm[i, j] > thresh else \"black\")\n",
    "\n",
    "    plt.ylabel('True label')\n",
    "    plt.xlabel('Predicted label')\n",
    "    plt.tight_layout()"
   ]
  },
  {
   "cell_type": "code",
   "execution_count": 123,
   "metadata": {},
   "outputs": [],
   "source": [
    "pred = NN.prediction(X)"
   ]
  },
  {
   "cell_type": "code",
   "execution_count": 124,
   "metadata": {},
   "outputs": [
    {
     "name": "stdout",
     "output_type": "stream",
     "text": [
      "[[163   3   3]\n",
      " [  3  62   9]\n",
      " [  7   5 187]]\n"
     ]
    }
   ],
   "source": [
    "cnf_mat = confusion_matrix(pred,Y)\n",
    "print(cnf_mat)"
   ]
  },
  {
   "cell_type": "code",
   "execution_count": 127,
   "metadata": {},
   "outputs": [
    {
     "name": "stdout",
     "output_type": "stream",
     "text": [
      "Confusion matrix, without normalization\n",
      "[[163   3   3]\n",
      " [  3  62   9]\n",
      " [  7   5 187]]\n"
     ]
    },
    {
     "data": {
      "image/png": "[encoded data removed]",
      "text/plain": [
       "<Figure size 576x396 with 2 Axes>"
      ]
     },
     "metadata": {},
     "output_type": "display_data"
    }
   ],
   "source": [
    "plot_confusion_matrix(cnf_mat,classes=[\"Bulbasaur\",\"Meowth\",\"Pikachu\"],title=\"Confusion Matrix\")"
   ]
  },
  {
   "cell_type": "code",
   "execution_count": 104,
   "metadata": {},
   "outputs": [],
   "source": [
    "from sklearn.metrics import classification_report"
   ]
  },
  {
   "cell_type": "code",
   "execution_count": 126,
   "metadata": {},
   "outputs": [
    {
     "name": "stdout",
     "output_type": "stream",
     "text": [
      "              precision    recall  f1-score   support\n",
      "\n",
      "           0       0.94      0.96      0.95       169\n",
      "           1       0.89      0.84      0.86        74\n",
      "           2       0.94      0.94      0.94       199\n",
      "\n",
      "   micro avg       0.93      0.93      0.93       442\n",
      "   macro avg       0.92      0.91      0.92       442\n",
      "weighted avg       0.93      0.93      0.93       442\n",
      "\n"
     ]
    }
   ],
   "source": [
    "print(classification_report(pred,Y))"
   ]
  },
  {
   "cell_type": "code",
   "execution_count": 128,
   "metadata": {},
   "outputs": [
    {
     "name": "stdout",
     "output_type": "stream",
     "text": [
      "Confusion matrix, without normalization\n",
      "[[32  3  3]\n",
      " [ 3  3  8]\n",
      " [ 6  4 27]]\n"
     ]
    },
    {
     "data": {
      "image/png": "[encoded data removed]",
      "text/plain": [
       "<Figure size 576x396 with 2 Axes>"
      ]
     },
     "metadata": {},
     "output_type": "display_data"
    }
   ],
   "source": [
    "pred_test = NN.prediction(X_test)\n",
    "cnf_mat_test = confusion_matrix(pred_test,Y_test)\n",
    "plot_confusion_matrix(cnf_mat_test,classes=[\"Bulbasaur\",\"Meowth\",\"Pikachu\"],title=\"Confusion Matrix\")"
   ]
  },
  {
   "cell_type": "code",
   "execution_count": 129,
   "metadata": {},
   "outputs": [
    {
     "name": "stdout",
     "output_type": "stream",
     "text": [
      "              precision    recall  f1-score   support\n",
      "\n",
      "           0       0.78      0.84      0.81        38\n",
      "           1       0.30      0.21      0.25        14\n",
      "           2       0.71      0.73      0.72        37\n",
      "\n",
      "   micro avg       0.70      0.70      0.70        89\n",
      "   macro avg       0.60      0.60      0.59        89\n",
      "weighted avg       0.68      0.70      0.68        89\n",
      "\n"
     ]
    }
   ],
   "source": [
    "print(classification_report(pred_test,Y_test))"
   ]
  },
  {
   "cell_type": "code",
   "execution_count": null,
   "metadata": {},
   "outputs": [],
   "source": []
  }
 ],
 "metadata": {
  "kernelspec": {
   "display_name": "Python 3",
   "language": "python",
   "name": "python3"
  },
  "language_info": {
   "codemirror_mode": {
    "name": "ipython",
    "version": 3
   },
   "file_extension": ".py",
   "mimetype": "text/x-python",
   "name": "python",
   "nbconvert_exporter": "python",
   "pygments_lexer": "ipython3",
   "version": "3.7.1"
  }
 },
 "nbformat": 4,
 "nbformat_minor": 2
}
